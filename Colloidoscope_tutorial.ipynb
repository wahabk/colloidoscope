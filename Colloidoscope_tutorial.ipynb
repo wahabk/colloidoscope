{
  "cells": [
    {
      "cell_type": "markdown",
      "metadata": {
        "colab_type": "text",
        "id": "view-in-github"
      },
      "source": [
        "<a href=\"https://colab.research.google.com/github/wahabk/colloidoscope/blob/dev/Colloidoscope_tutorial.ipynb\" target=\"_parent\"><img src=\"https://colab.research.google.com/assets/colab-badge.svg\" alt=\"Open In Colab\"/></a>"
      ]
    },
    {
      "cell_type": "markdown",
      "metadata": {
        "id": "3Lc56Z5JjD37"
      },
      "source": [
        "# **Colloidoscope!** - Colab tutorial 🖥\n",
        "\n",
        "Colloidoscope uses deep learning models which are usually demanding on CPUs or GPUs\n",
        "\n",
        "**Colab** notebooks can provide you with a free GPU to use for you to run your predictions, to make use of this please go to the top menu and click \n",
        "\n",
        "`Runtime > Change runtime type > Hardware accelerator  >  GPU`\n",
        "\n",
        "## **1 - Let's make sure colloidoscope is downloaded and installed in your notebook**"
      ]
    },
    {
      "cell_type": "code",
      "execution_count": 1,
      "metadata": {
        "colab": {
          "base_uri": "https://localhost:8080/"
        },
        "id": "l91OW7H4jAPi",
        "outputId": "9c2a9107-2664-4289-cdb1-7ef48d672ce4"
      },
      "outputs": [
        {
          "name": "stdout",
          "output_type": "stream",
          "text": [
            "Cloning into 'colloidoscope'...\n",
            "remote: Enumerating objects: 2965, done.\u001b[K\n",
            "remote: Counting objects: 100% (2965/2965), done.\u001b[K\n",
            "remote: Compressing objects: 100% (989/989), done.\u001b[K\n",
            "remote: Total 2965 (delta 2032), reused 2892 (delta 1961), pack-reused 0\u001b[K\n",
            "Receiving objects: 100% (2965/2965), 286.68 MiB | 16.58 MiB/s, done.\n",
            "Resolving deltas: 100% (2032/2032), done.\n",
            "Checking out files: 100% (287/287), done.\n"
          ]
        }
      ],
      "source": [
        "!git clone https://github.com/wahabk/colloidoscope\n",
        "\n",
        "%cd colloidoscope\n",
        "\n",
        "!python3 -m pip install .\n",
        "\n",
        "!python3 -m  pip install --upgrade sagemaker"
      ]
    },
    {
      "attachments": {},
      "cell_type": "markdown",
      "metadata": {
        "id": "lQUxLnHdtgHQ"
      },
      "source": [
        "## **2 - Upload your data** \n",
        "\n",
        "You can mount your google drive if you want to\n",
        "\n",
        "```python\n",
        "from google.colab import drive\n",
        "drive.mount('/content/drive')\n",
        "```\n",
        "\n",
        "Now everything should be ready, use colloidoscope like usual\n"
      ]
    },
    {
      "cell_type": "code",
      "execution_count": null,
      "metadata": {
        "id": "xTX7-rMAq51Y"
      },
      "outputs": [],
      "source": [
        "import colloidoscope as cd\n",
        "\n",
        "dc = cd.DeepColloid()\n",
        "path = 'path/to/image.tif'\n",
        "image = dc.read_tif(path)\n",
        "diameter=9\n",
        "\n",
        "df = dc.detect(image, diameter=diameter, run_on='cpu')\n"
      ]
    }
  ],
  "metadata": {
    "accelerator": "GPU",
    "colab": {
      "authorship_tag": "ABX9TyMRc62hZyVTA7XrADIKmo48",
      "include_colab_link": true,
      "provenance": []
    },
    "gpuClass": "standard",
    "kernelspec": {
      "display_name": "Python 3",
      "name": "python3"
    },
    "language_info": {
      "name": "python"
    }
  },
  "nbformat": 4,
  "nbformat_minor": 0
}
