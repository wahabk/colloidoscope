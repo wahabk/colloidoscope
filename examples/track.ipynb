{
 "cells": [
  {
   "cell_type": "markdown",
   "metadata": {},
   "source": [
    "# Install Colloidoscope using pip"
   ]
  },
  {
   "cell_type": "code",
   "execution_count": 1,
   "metadata": {},
   "outputs": [],
   "source": [
    "!git clone https://github.com/wahabk/colloidoscope\n",
    "!python3 -m pip install ."
   ]
  },
  {
   "cell_type": "code",
   "execution_count": null,
   "metadata": {},
   "outputs": [],
   "source": [
    "import colloidoscope as cd\n",
    "\n",
    "dc = cd.DeepColloid()"
   ]
  },
  {
   "cell_type": "code",
   "execution_count": null,
   "metadata": {},
   "outputs": [],
   "source": [
    "model_weights_path = 'path/to/model_weights.pt'\n",
    "path = 'path/to/image.tif'\n",
    "image = dc.read_tif(path) "
   ]
  },
  {
   "cell_type": "code",
   "execution_count": null,
   "metadata": {},
   "outputs": [],
   "source": [
    "# If you have a lif file Colloidoscope wraps the explore_lif Reader class\n",
    "Reader = dc.Explore_lif_reader(args)"
   ]
  },
  {
   "cell_type": "code",
   "execution_count": null,
   "metadata": {},
   "outputs": [],
   "source": [
    "df = dc.detect(image, weights_path=model_weights_path)"
   ]
  }
 ],
 "metadata": {
  "interpreter": {
   "hash": "5a2b65b8cf4f9939ffee0643da48fe4ebe9a6e98e1348c051982a5ee194cb1fc"
  },
  "kernelspec": {
   "display_name": "Python 3.8.12 ('colloids')",
   "language": "python",
   "name": "python3"
  },
  "language_info": {
   "codemirror_mode": {
    "name": "ipython",
    "version": 3
   },
   "file_extension": ".py",
   "mimetype": "text/x-python",
   "name": "python",
   "nbconvert_exporter": "python",
   "pygments_lexer": "ipython3",
   "version": "3.8.12"
  },
  "orig_nbformat": 4
 },
 "nbformat": 4,
 "nbformat_minor": 2
}
