{
 "cells": [
  {
   "cell_type": "markdown",
   "metadata": {},
   "source": [
    "# How to use Colloidoscope\n",
    "\n",
    "First make sure you have your virtual environment activated and colloidoscope installed\n",
    "\n",
    "`DeepColloid` is the main class to use to interact with colloidoscope"
   ]
  },
  {
   "cell_type": "code",
   "execution_count": null,
   "metadata": {},
   "outputs": [],
   "source": [
    "import colloidoscope as cd\n",
    "\n",
    "dc = cd.DeepColloid()"
   ]
  },
  {
   "cell_type": "markdown",
   "metadata": {},
   "source": [
    "First read your image as a numpy array"
   ]
  },
  {
   "cell_type": "code",
   "execution_count": null,
   "metadata": {},
   "outputs": [],
   "source": [
    "path = 'path/to/image.tif'\n",
    "image = dc.read_tif(path) "
   ]
  },
  {
   "cell_type": "markdown",
   "metadata": {},
   "source": [
    "If you have a lif file Colloidoscope wraps the `explore_lif Reader` class\n"
   ]
  },
  {
   "cell_type": "code",
   "execution_count": null,
   "metadata": {},
   "outputs": [],
   "source": [
    "# If you have a lif file Colloidoscope wraps the explore_lif Reader class\n",
    "Reader = dc.Explore_lif_reader(args)"
   ]
  },
  {
   "cell_type": "markdown",
   "metadata": {},
   "source": [
    "Then finally use `dc.detect()` as shown below, define your diameter since `TrackPy` is used on the output to find the positions\n",
    "\n",
    "This expects a numpy array image and will return a `pandas` DataFrame just like Trackpy"
   ]
  },
  {
   "cell_type": "code",
   "execution_count": null,
   "metadata": {},
   "outputs": [],
   "source": [
    "df = dc.detect(image, diameter=9)"
   ]
  },
  {
   "cell_type": "markdown",
   "metadata": {},
   "source": [
    "If you want to debug any issues you can pass `debug=True` and you will get the raw model output which can be viewed using the napari viewer"
   ]
  },
  {
   "cell_type": "code",
   "execution_count": null,
   "metadata": {},
   "outputs": [],
   "source": [
    "df, positions, output  = dc.detect(image, weights_path=model_weights_path, diameter=9, debug=True)\n",
    "dc.view(image, positions=positions, label=output)"
   ]
  }
 ],
 "metadata": {
  "kernelspec": {
   "display_name": "colloids",
   "language": "python",
   "name": "python3"
  },
  "language_info": {
   "codemirror_mode": {
    "name": "ipython",
    "version": 3
   },
   "file_extension": ".py",
   "mimetype": "text/x-python",
   "name": "python",
   "nbconvert_exporter": "python",
   "pygments_lexer": "ipython3",
   "version": "3.8.12 (default, Oct 12 2021, 13:49:34) \n[GCC 7.5.0]"
  },
  "orig_nbformat": 4,
  "vscode": {
   "interpreter": {
    "hash": "a6425333bc6716b5e5d29d6b49aa7fe3a2f3bd3bddc997794f8d886719e2f4ed"
   }
  }
 },
 "nbformat": 4,
 "nbformat_minor": 2
}
