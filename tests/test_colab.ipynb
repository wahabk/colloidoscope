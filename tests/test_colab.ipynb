{
  "cells": [
    {
      "attachments": {},
      "cell_type": "markdown",
      "metadata": {
        "id": "3Lc56Z5JjD37"
      },
      "source": [
        "# Colloidoscope jupyter notebook test "
      ]
    },
    {
      "cell_type": "code",
      "execution_count": null,
      "metadata": {},
      "outputs": [
        {
          "name": "stdout",
          "output_type": "stream",
          "text": [
            "Cloning into 'colloidoscope'...\n",
            "remote: Enumerating objects: 3199, done.\u001b[K\n",
            "remote: Counting objects: 100% (463/463), done.\u001b[K\n",
            "remote: Compressing objects: 100% (170/170), done.\u001b[K\n",
            "remote: Total 3199 (delta 310), reused 435 (delta 290), pack-reused 2736\u001b[K\n",
            "Receiving objects: 100% (3199/3199), 296.59 MiB | 20.19 MiB/s, done.\n",
            "Resolving deltas: 100% (2189/2189), done.\n",
            "Checking out files: 100% (318/318), done.\n",
            "Already on 'dev'\n",
            "Your branch is up-to-date with 'origin/dev'.\n",
            "/home/ak18001/code/colloidoscope/tests/colloidoscope\n",
            "Processing /home/ak18001/code/colloidoscope/tests/colloidoscope\n",
            "  Preparing metadata (setup.py) ... \u001b[?25ldone\n",
            "\u001b[?25hCollecting numpy==1.20.0\n",
            "  Using cached numpy-1.20.0-cp38-cp38-manylinux2010_x86_64.whl (15.4 MB)\n",
            "Building wheels for collected packages: colloidoscope\n",
            "  Building wheel for colloidoscope (setup.py) ... \u001b[?25ldone\n",
            "\u001b[?25h  Created wheel for colloidoscope: filename=colloidoscope-0.1.0-py3-none-any.whl size=53473 sha256=9072945e239972a9f4208e8c006f22acad7cdb7f4e2b43357ad441a6f274c84c\n",
            "  Stored in directory: /tmp/pip-ephem-wheel-cache-8e0ps81v/wheels/75/8c/6b/570e10c627a4fc9f775262fc0eab1c460efcde31723a118b68\n",
            "Successfully built colloidoscope\n",
            "Installing collected packages: numpy, colloidoscope\n",
            "  Attempting uninstall: numpy\n",
            "    Found existing installation: numpy 1.20.3\n",
            "    Uninstalling numpy-1.20.3:\n",
            "      Successfully uninstalled numpy-1.20.3\n",
            "  Attempting uninstall: colloidoscope\n",
            "    Found existing installation: colloidoscope 0.1.0\n",
            "    Uninstalling colloidoscope-0.1.0:\n",
            "      Successfully uninstalled colloidoscope-0.1.0\n",
            "Successfully installed colloidoscope-0.1.0 numpy-1.20.0\n",
            "Collecting sagemaker\n",
            "  Downloading sagemaker-2.127.0.tar.gz (655 kB)\n",
            "     |████████████████████████████████| 655 kB 8.2 MB/s            \n",
            "\u001b[?25h  Preparing metadata (setup.py) ... \u001b[?25ldone\n",
            "\u001b[?25hRequirement already satisfied: attrs<23,>=20.3.0 in /home/ak18001/miniconda3/envs/colloids/lib/python3.8/site-packages (from sagemaker) (21.2.0)\n",
            "Collecting boto3<2.0,>=1.26.28\n",
            "  Downloading boto3-1.26.45-py3-none-any.whl (132 kB)\n",
            "     |████████████████████████████████| 132 kB 113.7 MB/s            \n",
            "\u001b[?25hCollecting google-pasta\n",
            "  Using cached google_pasta-0.2.0-py3-none-any.whl (57 kB)\n",
            "Requirement already satisfied: numpy<2.0,>=1.9.0 in /home/ak18001/miniconda3/envs/colloids/lib/python3.8/site-packages (from sagemaker) (1.20.0)\n",
            "Requirement already satisfied: protobuf<4.0,>=3.1 in /home/ak18001/miniconda3/envs/colloids/lib/python3.8/site-packages (from sagemaker) (3.19.1)\n",
            "Collecting protobuf3-to-dict<1.0,>=0.1.5\n",
            "  Downloading protobuf3-to-dict-0.1.5.tar.gz (3.5 kB)\n",
            "  Preparing metadata (setup.py) ... \u001b[?25ldone\n",
            "\u001b[?25hCollecting smdebug_rulesconfig==1.0.1\n",
            "  Downloading smdebug_rulesconfig-1.0.1-py2.py3-none-any.whl (20 kB)\n",
            "Requirement already satisfied: importlib-metadata<5.0,>=1.4.0 in /home/ak18001/miniconda3/envs/colloids/lib/python3.8/site-packages (from sagemaker) (4.8.2)\n",
            "Requirement already satisfied: packaging>=20.0 in /home/ak18001/miniconda3/envs/colloids/lib/python3.8/site-packages (from sagemaker) (21.3)\n",
            "Requirement already satisfied: pandas in /home/ak18001/miniconda3/envs/colloids/lib/python3.8/site-packages (from sagemaker) (1.3.4)\n",
            "Collecting pathos\n",
            "  Downloading pathos-0.3.0-py3-none-any.whl (79 kB)\n",
            "     |████████████████████████████████| 79 kB 10.4 MB/s             \n",
            "\u001b[?25hCollecting schema\n",
            "  Using cached schema-0.7.5-py2.py3-none-any.whl (17 kB)\n",
            "Collecting s3transfer<0.7.0,>=0.6.0\n",
            "  Using cached s3transfer-0.6.0-py3-none-any.whl (79 kB)\n",
            "Requirement already satisfied: jmespath<2.0.0,>=0.7.1 in /home/ak18001/miniconda3/envs/colloids/lib/python3.8/site-packages (from boto3<2.0,>=1.26.28->sagemaker) (0.10.0)\n",
            "Collecting botocore<1.30.0,>=1.29.45\n",
            "  Downloading botocore-1.29.45-py3-none-any.whl (10.3 MB)\n",
            "     |████████████████████████████████| 10.3 MB 111.5 MB/s            \n",
            "\u001b[?25hRequirement already satisfied: zipp>=0.5 in /home/ak18001/miniconda3/envs/colloids/lib/python3.8/site-packages (from importlib-metadata<5.0,>=1.4.0->sagemaker) (3.6.0)\n",
            "Requirement already satisfied: pyparsing!=3.0.5,>=2.0.2 in /home/ak18001/miniconda3/envs/colloids/lib/python3.8/site-packages (from packaging>=20.0->sagemaker) (3.0.6)\n",
            "Requirement already satisfied: six in /home/ak18001/miniconda3/envs/colloids/lib/python3.8/site-packages (from protobuf3-to-dict<1.0,>=0.1.5->sagemaker) (1.16.0)\n",
            "Requirement already satisfied: python-dateutil>=2.7.3 in /home/ak18001/miniconda3/envs/colloids/lib/python3.8/site-packages (from pandas->sagemaker) (2.8.2)\n",
            "Requirement already satisfied: pytz>=2017.3 in /home/ak18001/miniconda3/envs/colloids/lib/python3.8/site-packages (from pandas->sagemaker) (2021.3)\n",
            "Collecting pox>=0.3.2\n",
            "  Downloading pox-0.3.2-py3-none-any.whl (29 kB)\n",
            "Collecting ppft>=1.7.6.6\n",
            "  Downloading ppft-1.7.6.6-py3-none-any.whl (52 kB)\n",
            "     |████████████████████████████████| 52 kB 2.8 MB/s              \n",
            "\u001b[?25hCollecting dill>=0.3.6\n",
            "  Downloading dill-0.3.6-py3-none-any.whl (110 kB)\n",
            "     |████████████████████████████████| 110 kB 150.0 MB/s            \n",
            "\u001b[?25hCollecting multiprocess>=0.70.14\n",
            "  Downloading multiprocess-0.70.14-py38-none-any.whl (132 kB)\n",
            "     |████████████████████████████████| 132 kB 154.2 MB/s            \n",
            "\u001b[?25hCollecting contextlib2>=0.5.5\n",
            "  Using cached contextlib2-21.6.0-py2.py3-none-any.whl (13 kB)\n",
            "Requirement already satisfied: urllib3<1.27,>=1.25.4 in /home/ak18001/miniconda3/envs/colloids/lib/python3.8/site-packages (from botocore<1.30.0,>=1.29.45->boto3<2.0,>=1.26.28->sagemaker) (1.26.7)\n",
            "Building wheels for collected packages: sagemaker, protobuf3-to-dict\n",
            "  Building wheel for sagemaker (setup.py) ... \u001b[?25ldone\n",
            "\u001b[?25h  Created wheel for sagemaker: filename=sagemaker-2.127.0-py2.py3-none-any.whl size=890097 sha256=73f70bf8cd7647cd78822a402ccf09d56168cdafe1a3d0641df65d783e0db8e2\n",
            "  Stored in directory: /home/ak18001/.cache/pip/wheels/5b/45/09/afaee56ed7903493ef02b1ad4edea087d37d1b3492595dd705\n",
            "  Building wheel for protobuf3-to-dict (setup.py) ... \u001b[?25ldone\n",
            "\u001b[?25h  Created wheel for protobuf3-to-dict: filename=protobuf3_to_dict-0.1.5-py3-none-any.whl size=4029 sha256=0e9b9d4531d0739ccfa99055ed48e12a6069751c0102662c077413cf9017b6f7\n",
            "  Stored in directory: /home/ak18001/.cache/pip/wheels/fc/10/27/2d1e23d8b9a9013a83fbb418a0b17b1e6f81c8db8f53b53934\n",
            "Successfully built sagemaker protobuf3-to-dict\n",
            "Installing collected packages: dill, botocore, s3transfer, ppft, pox, multiprocess, contextlib2, smdebug-rulesconfig, schema, protobuf3-to-dict, pathos, google-pasta, boto3, sagemaker\n",
            "  Attempting uninstall: botocore\n",
            "    Found existing installation: botocore 1.23.19\n",
            "    Uninstalling botocore-1.23.19:\n",
            "      Successfully uninstalled botocore-1.23.19\n",
            "  Attempting uninstall: s3transfer\n",
            "    Found existing installation: s3transfer 0.5.0\n",
            "    Uninstalling s3transfer-0.5.0:\n",
            "      Successfully uninstalled s3transfer-0.5.0\n",
            "  Attempting uninstall: boto3\n",
            "    Found existing installation: boto3 1.20.19\n",
            "    Uninstalling boto3-1.20.19:\n",
            "      Successfully uninstalled boto3-1.20.19\n",
            "Successfully installed boto3-1.26.45 botocore-1.29.45 contextlib2-21.6.0 dill-0.3.6 google-pasta-0.2.0 multiprocess-0.70.14 pathos-0.3.0 pox-0.3.2 ppft-1.7.6.6 protobuf3-to-dict-0.1.5 s3transfer-0.6.0 sagemaker-2.127.0 schema-0.7.5 smdebug-rulesconfig-1.0.1\n"
          ]
        }
      ],
      "source": [
        "!git clone https://github.com/wahabk/colloidoscope\n",
        "\n",
        "!git checkout dev\n",
        "\n",
        "%cd colloidoscope\n",
        "\n",
        "!python3 -m pip install .\n",
        "\n",
        "!python3 -m  pip install --upgrade sagemaker"
      ]
    },
    {
      "cell_type": "code",
      "execution_count": 1,
      "metadata": {
        "colab": {
          "base_uri": "https://localhost:8080/"
        },
        "id": "l91OW7H4jAPi",
        "outputId": "9c2a9107-2664-4289-cdb1-7ef48d672ce4"
      },
      "outputs": [
        {
          "name": "stderr",
          "output_type": "stream",
          "text": [
            "/home/ak18001/.local/lib/python3.8/site-packages/tqdm/auto.py:22: TqdmWarning: IProgress not found. Please update jupyter and ipywidgets. See https://ipywidgets.readthedocs.io/en/stable/user_install.html\n",
            "  from .autonotebook import tqdm as notebook_tqdm\n"
          ]
        }
      ],
      "source": [
        "import colloidoscope as cd\n",
        "import torch\n",
        "dc = cd.DeepColloid()"
      ]
    },
    {
      "attachments": {},
      "cell_type": "markdown",
      "metadata": {},
      "source": [
        "# First test on CPU"
      ]
    },
    {
      "cell_type": "code",
      "execution_count": 2,
      "metadata": {
        "id": "xTX7-rMAq51Y"
      },
      "outputs": [],
      "source": [
        "# model_weights_path = 'output/weights/attention_unet_202211.pt'\n",
        "model_weights_path = None\n",
        "\n",
        "path = \"../examples/Data/levke.tiff\"\n",
        "diameter=13\n",
        "\n",
        "image = dc.read_tif(path)\n",
        "image = dc.crop3d(image, roiSize=(128,128,128))"
      ]
    },
    {
      "cell_type": "code",
      "execution_count": 3,
      "metadata": {},
      "outputs": [
        {
          "name": "stdout",
          "output_type": "stream",
          "text": [
            "Requested to run on cpu\n",
            "Predicting on cpu\n",
            "/home/ak18001/miniconda3/envs/colloids/lib/python3.8/site-packages/colloidoscope/attention_unet_202302.pt\n"
          ]
        },
        {
          "name": "stderr",
          "output_type": "stream",
          "text": [
            "7it [00:05,  1.39it/s]\n"
          ]
        },
        {
          "name": "stdout",
          "output_type": "stream",
          "text": [
            "              x           y           z\n",
            "0     27.019121   20.686359    6.697630\n",
            "1    108.577263   92.143768    8.298099\n",
            "2    112.544296   59.832214    6.937709\n",
            "3     77.186775   38.124393    6.899460\n",
            "4     24.919355   75.105919    8.546846\n",
            "..          ...         ...         ...\n",
            "254   40.860447   42.525879  118.729301\n",
            "255    9.552252   43.521267  120.953079\n",
            "256   16.734251   86.278412  119.681946\n",
            "257   74.835083   26.415123  120.767715\n",
            "258  107.875381  102.955902  119.984123\n",
            "\n",
            "[259 rows x 3 columns]\n"
          ]
        }
      ],
      "source": [
        "run_on = \"cpu\"\n",
        "df = dc.detect(image, weights_path=model_weights_path, diameter=diameter, run_on=run_on)\n",
        "print(df)"
      ]
    },
    {
      "attachments": {},
      "cell_type": "markdown",
      "metadata": {},
      "source": [
        "# Test on gpu if available"
      ]
    },
    {
      "cell_type": "code",
      "execution_count": 5,
      "metadata": {},
      "outputs": [
        {
          "name": "stdout",
          "output_type": "stream",
          "text": [
            "Requested to run on cuda\n",
            "Predicting on cuda\n"
          ]
        },
        {
          "name": "stderr",
          "output_type": "stream",
          "text": [
            "7it [00:01,  5.27it/s]\n"
          ]
        },
        {
          "name": "stdout",
          "output_type": "stream",
          "text": [
            "              x           y           z\n",
            "0     76.180161   13.600744   14.827283\n",
            "1     92.184380  119.128838   15.263591\n",
            "2    112.927040    8.432750   14.792542\n",
            "3     36.877968    7.592844   18.032015\n",
            "4    112.589287   40.802399   18.080019\n",
            "..          ...         ...         ...\n",
            "114  102.551369   63.423824  112.311165\n",
            "115   11.731017   97.852402  111.498413\n",
            "116   65.964050  110.217812  111.402206\n",
            "117   83.915779  110.547394  112.110809\n",
            "118  112.380051   87.481606  112.057823\n",
            "\n",
            "[119 rows x 3 columns]\n"
          ]
        }
      ],
      "source": [
        "run_on = \"cuda\"\n",
        "df = dc.detect(image, weights_path=model_weights_path, diameter=diameter, run_on=run_on)\n",
        "print(df)"
      ]
    }
  ],
  "metadata": {
    "accelerator": "GPU",
    "colab": {
      "provenance": []
    },
    "gpuClass": "standard",
    "kernelspec": {
      "display_name": "Python 3.8.12 ('colloids')",
      "language": "python",
      "name": "python3"
    },
    "language_info": {
      "codemirror_mode": {
        "name": "ipython",
        "version": 3
      },
      "file_extension": ".py",
      "mimetype": "text/x-python",
      "name": "python",
      "nbconvert_exporter": "python",
      "pygments_lexer": "ipython3",
      "version": "3.8.15"
    },
    "vscode": {
      "interpreter": {
        "hash": "5a2b65b8cf4f9939ffee0643da48fe4ebe9a6e98e1348c051982a5ee194cb1fc"
      }
    }
  },
  "nbformat": 4,
  "nbformat_minor": 0
}
